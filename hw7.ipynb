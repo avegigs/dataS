{
  "cells": [
    {
      "cell_type": "code",
      "execution_count": null,
      "metadata": {
        "id": "aIJsa4zdq6Jj"
      },
      "outputs": [],
      "source": [
        "#pip install surprise"
      ]
    },
    {
      "cell_type": "code",
      "execution_count": 4,
      "metadata": {
        "id": "9W-oNJD4qsPt"
      },
      "outputs": [],
      "source": [
        "from surprise import Dataset, Reader\n",
        "from surprise.model_selection import GridSearchCV\n",
        "from surprise import SVD, SVDpp, NMF"
      ]
    },
    {
      "cell_type": "code",
      "execution_count": null,
      "metadata": {
        "id": "hFwH00BQrPM1"
      },
      "outputs": [],
      "source": [
        "dataset = Dataset.load_builtin('ml-100k')\n",
        "reader = Reader(rating_scale=(1, 5))"
      ]
    },
    {
      "cell_type": "code",
      "execution_count": 6,
      "metadata": {
        "colab": {
          "base_uri": "https://localhost:8080/"
        },
        "id": "YpSTSqlUrqwX",
        "outputId": "f2d40b79-3374-4bd8-d7ef-90ef34672ea9"
      },
      "outputs": [
        {
          "output_type": "stream",
          "name": "stdout",
          "text": [
            "Найкращі результати для SVD:\n",
            "Найкращий результат RMSE: 0.949450180956117\n",
            "Найкращі параметри: {'n_factors': 10, 'n_epochs': 10}\n",
            "Найкращі результати для SVD++:\n",
            "Найкращий результат RMSE: 0.9360629972830461\n",
            "Найкращі параметри: {'n_factors': 20, 'n_epochs': 10}\n",
            "Найкращі результати для NMF:\n",
            "Найкращий результат RMSE: 1.1622846827899669\n",
            "Найкращі параметри: {'n_factors': 10, 'n_epochs': 10}\n",
            "\n",
            "Найкращий алгоритм в цілому: SVD++\n",
            "Найкращий результат RMSE: 0.9360629972830461\n",
            "Найкращі параметри: {'n_factors': 20, 'n_epochs': 10}\n"
          ]
        }
      ],
      "source": [
        "train = dataset.build_full_trainset()\n",
        "\n",
        "algorithms = {\n",
        "    'SVD': SVD,\n",
        "    'SVD++': SVDpp,\n",
        "    'NMF': NMF\n",
        "}\n",
        "\n",
        "param_grid = {\n",
        "    'n_factors': [10, 20],\n",
        "    'n_epochs': [5, 10]\n",
        "}\n",
        "\n",
        "best_algorithm = None\n",
        "best_params = None\n",
        "best_score = float('inf')\n",
        "\n",
        "for alg_name, alg_class in algorithms.items():\n",
        "    grid_search = GridSearchCV(alg_class, param_grid, measures=[\"rmse\"], cv=3, n_jobs=-1)\n",
        "    grid_search.fit(dataset)\n",
        "\n",
        "    print(f\"Найкращі результати для {alg_name}:\")\n",
        "    print(f\"Найкращий результат RMSE: {grid_search.best_score['rmse']}\")\n",
        "    print(f\"Найкращі параметри: {grid_search.best_params['rmse']}\")\n",
        "\n",
        "    if grid_search.best_score['rmse'] < best_score:\n",
        "        best_score = grid_search.best_score['rmse']\n",
        "        best_params = grid_search.best_params['rmse']\n",
        "        best_algorithm = alg_name\n",
        "\n",
        "print(f\"\\nНайкращий алгоритм в цілому: {best_algorithm}\")\n",
        "print(f\"Найкращий результат RMSE: {best_score}\")\n",
        "print(f\"Найкращі параметри: {best_params}\")"
      ]
    }
  ],
  "metadata": {
    "colab": {
      "provenance": [],
      "gpuType": "T4",
      "authorship_tag": "ABX9TyOtCqH+S1a6B/7vUzHfOVGj"
    },
    "kernelspec": {
      "display_name": "Python 3",
      "name": "python3"
    },
    "language_info": {
      "name": "python"
    },
    "accelerator": "GPU"
  },
  "nbformat": 4,
  "nbformat_minor": 0
}