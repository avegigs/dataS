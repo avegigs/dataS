{
  "nbformat": 4,
  "nbformat_minor": 0,
  "metadata": {
    "colab": {
      "provenance": [],
      "authorship_tag": "ABX9TyNn88FnaDDPsccUMz/xa2ex",
      "include_colab_link": true
    },
    "kernelspec": {
      "name": "python3",
      "display_name": "Python 3"
    },
    "language_info": {
      "name": "python"
    }
  },
  "cells": [
    {
      "cell_type": "markdown",
      "metadata": {
        "id": "view-in-github",
        "colab_type": "text"
      },
      "source": [
        "<a href=\"https://colab.research.google.com/github/avegigs/dataS/blob/main/hw_3.ipynb\" target=\"_parent\"><img src=\"https://colab.research.google.com/assets/colab-badge.svg\" alt=\"Open In Colab\"/></a>"
      ]
    },
    {
      "cell_type": "code",
      "execution_count": null,
      "metadata": {
        "id": "Wsd3s-qY7eAN"
      },
      "outputs": [],
      "source": [
        "import pandas as pd\n",
        "import numpy as np\n",
        "from sklearn.linear_model import LinearRegression"
      ]
    },
    {
      "cell_type": "markdown",
      "source": [
        "Функція гіпотези лінійної регресії у векторному вигляді"
      ],
      "metadata": {
        "id": "o8nvRGhK7lad"
      }
    },
    {
      "cell_type": "code",
      "source": [
        "def hyp(w, x):\n",
        "    return w[0] + w[1] * x\n",
        "\n",
        "w = np.array([2, 1])\n",
        "x = np.array([4, 2])\n",
        "res = hyp(w, x)\n",
        "print(\"Результат гіпотези:\", res)"
      ],
      "metadata": {
        "colab": {
          "base_uri": "https://localhost:8080/"
        },
        "id": "xlS9Betg7qtE",
        "outputId": "ca3588aa-32bb-4cb0-d374-01bf762653f6"
      },
      "execution_count": null,
      "outputs": [
        {
          "output_type": "stream",
          "name": "stdout",
          "text": [
            "Результат гіпотези: [6 4]\n"
          ]
        }
      ]
    },
    {
      "cell_type": "markdown",
      "source": [
        "Функція обчислення втрат у векторному вигляді"
      ],
      "metadata": {
        "id": "k3Hd4hBF77M9"
      }
    },
    {
      "cell_type": "code",
      "source": [
        "def mean_squared_error(w, x, y):\n",
        "    lnx = len(x)\n",
        "    predictions = hyp(w, x)\n",
        "    mse = np.sum((predictions - y)**2) / lnx\n",
        "    return mse\n",
        "\n",
        "x = np.array([1, 2, 3, 4, 5])\n",
        "y = np.array([2, 3, 2, 6, 5])\n",
        "\n",
        "w = np.array([0.0, 0.0])\n",
        "\n",
        "loss = mean_squared_error(w, x, y)\n",
        "\n",
        "print(\"Функція втрат MSE:\", loss)"
      ],
      "metadata": {
        "colab": {
          "base_uri": "https://localhost:8080/"
        },
        "id": "V4tcVSyL8CBE",
        "outputId": "7a1df7f7-f66a-44ce-8302-72dba3e3af90"
      },
      "execution_count": null,
      "outputs": [
        {
          "output_type": "stream",
          "name": "stdout",
          "text": [
            "Функція втрат MSE: 15.6\n"
          ]
        }
      ]
    },
    {
      "cell_type": "markdown",
      "source": [
        "Функція реалізації одного кроку градієнтного спуску"
      ],
      "metadata": {
        "id": "hH-YVrzt8bYd"
      }
    },
    {
      "cell_type": "code",
      "source": [
        "def gradient_descent_step(w, x, y, learning_rate):\n",
        "    lnx = len(x)\n",
        "\n",
        "    gradient_w0 = (1/lnx) * np.sum(hyp(w, x) - y)\n",
        "    gradient_w1 = (1/lnx) * np.sum((hyp(w, x) - y) * x)\n",
        "\n",
        "    w[0] -= learning_rate * gradient_w0\n",
        "    w[1] -= learning_rate * gradient_w1\n",
        "\n",
        "    return w\n",
        "\n",
        "\n",
        "x = np.array([1, 2, 3, 4, 5])\n",
        "y = np.array([2, 3, 2, 6, 5])\n",
        "\n",
        "\n",
        "w = np.array([0.0, 0.0])\n",
        "\n",
        "learning_rate = 0.01\n",
        "w = gradient_descent_step(w, x, y, learning_rate)\n",
        "\n",
        "print(\"Оновлені ваги:\", w)"
      ],
      "metadata": {
        "colab": {
          "base_uri": "https://localhost:8080/"
        },
        "id": "MNv-w-vD8kVx",
        "outputId": "36361b27-83a2-4b09-f67b-60a37b1c22ab"
      },
      "execution_count": null,
      "outputs": [
        {
          "output_type": "stream",
          "name": "stdout",
          "text": [
            "Оновлені ваги: [0.036 0.126]\n"
          ]
        }
      ]
    },
    {
      "cell_type": "markdown",
      "source": [
        "Знайдіть найкращі параметри для датасету прогнозуючу ціну на будинок залежно від площі, кількості ванних кімнат та кількості спалень"
      ],
      "metadata": {
        "id": "VKRQTH4X9TeB"
      }
    },
    {
      "cell_type": "code",
      "source": [
        "df = pd.read_csv('/content/Housing.csv')\n",
        "df.head()"
      ],
      "metadata": {
        "id": "mJQ5DEJD9XwW"
      },
      "execution_count": null,
      "outputs": []
    },
    {
      "cell_type": "code",
      "source": [
        "X = df[['area', 'bedrooms', 'bathrooms']]\n",
        "y = df['price']\n",
        "\n",
        "model = LinearRegression()\n",
        "model.fit(X, y)\n",
        "\n",
        "w = model.coef_\n",
        "print(w)"
      ],
      "metadata": {
        "colab": {
          "base_uri": "https://localhost:8080/"
        },
        "id": "QmU2q9Yc9nw4",
        "outputId": "55b879f8-77d5-4296-abf6-62518e41fd1e"
      },
      "execution_count": null,
      "outputs": [
        {
          "output_type": "stream",
          "name": "stdout",
          "text": [
            "[3.78762754e+02 4.06820034e+05 1.38604950e+06]\n"
          ]
        }
      ]
    },
    {
      "cell_type": "markdown",
      "source": [
        "Аналітичне рішення"
      ],
      "metadata": {
        "id": "2UmZgCwE95RW"
      }
    },
    {
      "cell_type": "code",
      "source": [
        "X = X.copy()\n",
        "X['bias'] = 1\n",
        "\n",
        "w1 = np.linalg.inv(X.T.dot(X)).dot(X.T).dot(y)\n",
        "w1 = w1[:-1]\n",
        "print(w1)"
      ],
      "metadata": {
        "colab": {
          "base_uri": "https://localhost:8080/"
        },
        "id": "v8jj0YTR98IY",
        "outputId": "de8c38ad-e4db-41fe-a9ef-a72140a6dc5e"
      },
      "execution_count": null,
      "outputs": [
        {
          "output_type": "stream",
          "name": "stdout",
          "text": [
            "[3.78762754e+02 4.06820034e+05 1.38604950e+06]\n"
          ]
        }
      ]
    }
  ]
}